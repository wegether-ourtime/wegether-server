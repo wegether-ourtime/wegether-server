{
 "cells": [
  {
   "cell_type": "markdown",
   "source": [
    "# Panacura Algo Tutorial 101"
   ],
   "metadata": {}
  },
  {
   "cell_type": "code",
   "execution_count": null,
   "source": [
    "\n",
    "from engine import biome, cytokine, exome, snp\n",
    "import pandas as pd\n",
    "\n",
    "#turn off warning\n",
    "import warnings\n",
    "warnings.filterwarnings(\"ignore\")\n",
    "pd.options.mode.chained_assignment = None\n",
    "\n",
    "\n",
    "\n",
    "\n",
    "#open zip file\n",
    "\n"
   ],
   "outputs": [],
   "metadata": {}
  },
  {
   "cell_type": "markdown",
   "source": [
    "## Biome"
   ],
   "metadata": {}
  },
  {
   "cell_type": "code",
   "execution_count": null,
   "source": [
    "biome_file = open(\"data/biome.zip\", \"rb\")\n",
    "result_biome = biome.calculateBiome(biome_file)\n",
    "# pd.DataFrame(result_biome[4.0]).T"
   ],
   "outputs": [],
   "metadata": {}
  },
  {
   "cell_type": "markdown",
   "source": [
    "## SNP"
   ],
   "metadata": {}
  },
  {
   "cell_type": "code",
   "execution_count": null,
   "source": [
    "snp_file = open(\"data/snp.csv\",\"rb\")\n",
    "#convert snp file to dataframe\n",
    "\n",
    "result_snp = snp.calculateSnp(snp_file,mode='csv')\n",
    "# pd.DataFrame(result_snp['User888']).T"
   ],
   "outputs": [],
   "metadata": {}
  },
  {
   "cell_type": "markdown",
   "source": [
    "## Cytokine"
   ],
   "metadata": {}
  },
  {
   "cell_type": "code",
   "execution_count": null,
   "source": [
    "cytokine_file = open(\"data/cytokine.csv\",\"rb\")\n",
    "result_cytokine = cytokine.getCytokineResult(cytokine_file)\n",
    "# pd.DataFrame(result_cytokine)[['User888']]\n"
   ],
   "outputs": [],
   "metadata": {}
  },
  {
   "cell_type": "markdown",
   "source": [
    "## Exome"
   ],
   "metadata": {}
  },
  {
   "cell_type": "code",
   "execution_count": null,
   "source": [
    "exome_file = open(\"data/exome.csv\",\"rb\")\n",
    "result_exome = exome.calculateExome(exome_file)\n",
    "# pd.DataFrame(result_exome['drug_response']).T"
   ],
   "outputs": [
    {
     "output_type": "stream",
     "name": "stdout",
     "text": [
      "76342\n",
      "51\n",
      "76385\n"
     ]
    }
   ],
   "metadata": {}
  },
  {
   "cell_type": "code",
   "execution_count": null,
   "source": [],
   "outputs": [],
   "metadata": {}
  }
 ],
 "metadata": {
  "orig_nbformat": 4,
  "language_info": {
   "name": "python",
   "version": "3.9.13 (main, Aug  7 2022, 01:33:23) \n[Clang 13.1.6 (clang-1316.0.21.2.5)]",
   "mimetype": "text/x-python",
   "codemirror_mode": {
    "name": "ipython",
    "version": 3
   },
   "pygments_lexer": "ipython3",
   "nbconvert_exporter": "python",
   "file_extension": ".py"
  },
  "kernelspec": {
   "name": "python3",
   "language": "python",
   "display_name": "Python 3"
  },
  "vscode": {
   "interpreter": {
    "hash": "aee8b7b246df8f9039afb4144a1f6fd8d2ca17a180786b69acc140d282b71a49"
   }
  }
 },
 "nbformat": 4,
 "nbformat_minor": 2
}